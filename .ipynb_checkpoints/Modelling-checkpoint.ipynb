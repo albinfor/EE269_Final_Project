{
 "cells": [
  {
   "cell_type": "code",
   "execution_count": 1,
   "metadata": {},
   "outputs": [],
   "source": [
    "# Libraries\n",
    "import numpy as np\n",
    "import pandas as pd\n",
    "import seaborn as sns\n",
    "import numpy.random as rand\n",
    "import matplotlib.pyplot as plt\n",
    "from sklearn.svm import SVC\n",
    "from sklearn.model_selection import train_test_split, LeaveOneOut\n",
    "from sklearn.naive_bayes import BernoulliNB\n",
    "from sklearn.neighbors import KNeighborsClassifier\n",
    "from sklearn.linear_model import LinearRegression, LogisticRegression, LogisticRegressionCV\n",
    "from sklearn.metrics import accuracy_score, classification_report, confusion_matrix\n",
    "from sklearn.preprocessing import StandardScaler"
   ]
  },
  {
   "cell_type": "code",
   "execution_count": 2,
   "metadata": {},
   "outputs": [
    {
     "data": {
      "text/html": [
       "<div>\n",
       "<style scoped>\n",
       "    .dataframe tbody tr th:only-of-type {\n",
       "        vertical-align: middle;\n",
       "    }\n",
       "\n",
       "    .dataframe tbody tr th {\n",
       "        vertical-align: top;\n",
       "    }\n",
       "\n",
       "    .dataframe thead th {\n",
       "        text-align: right;\n",
       "    }\n",
       "</style>\n",
       "<table border=\"1\" class=\"dataframe\">\n",
       "  <thead>\n",
       "    <tr style=\"text-align: right;\">\n",
       "      <th></th>\n",
       "      <th>Subject ID</th>\n",
       "      <th>Jitter (local)</th>\n",
       "      <th>Jitter (local, abs)</th>\n",
       "      <th>Jitter (rap)</th>\n",
       "      <th>Jitter (ppq5)</th>\n",
       "      <th>Jitter (ddp)</th>\n",
       "      <th>Shimmer (local)</th>\n",
       "      <th>Shimmer (local, dB)</th>\n",
       "      <th>Shimmer (apq3)</th>\n",
       "      <th>Shimmer (apq5)</th>\n",
       "      <th>...</th>\n",
       "      <th>Max Pitch</th>\n",
       "      <th>Num Pulses</th>\n",
       "      <th>Num Periods</th>\n",
       "      <th>Mean Period</th>\n",
       "      <th>Std Dev Periods</th>\n",
       "      <th>Frac Unvoiced Frames</th>\n",
       "      <th>Num  Breaks</th>\n",
       "      <th>Degree of Breaks</th>\n",
       "      <th>UPDRS</th>\n",
       "      <th>class info</th>\n",
       "    </tr>\n",
       "  </thead>\n",
       "  <tbody>\n",
       "    <tr>\n",
       "      <th>2</th>\n",
       "      <td>1</td>\n",
       "      <td>1.220</td>\n",
       "      <td>0.000074</td>\n",
       "      <td>0.732</td>\n",
       "      <td>0.670</td>\n",
       "      <td>2.196</td>\n",
       "      <td>8.719</td>\n",
       "      <td>0.875</td>\n",
       "      <td>4.347</td>\n",
       "      <td>5.166</td>\n",
       "      <td>...</td>\n",
       "      <td>211.442</td>\n",
       "      <td>1431</td>\n",
       "      <td>1427</td>\n",
       "      <td>0.006071</td>\n",
       "      <td>0.000474</td>\n",
       "      <td>10.656</td>\n",
       "      <td>1</td>\n",
       "      <td>0.178</td>\n",
       "      <td>23</td>\n",
       "      <td>1</td>\n",
       "    </tr>\n",
       "    <tr>\n",
       "      <th>444</th>\n",
       "      <td>18</td>\n",
       "      <td>3.074</td>\n",
       "      <td>0.000159</td>\n",
       "      <td>1.818</td>\n",
       "      <td>1.840</td>\n",
       "      <td>5.455</td>\n",
       "      <td>14.213</td>\n",
       "      <td>1.345</td>\n",
       "      <td>7.810</td>\n",
       "      <td>10.250</td>\n",
       "      <td>...</td>\n",
       "      <td>496.249</td>\n",
       "      <td>86</td>\n",
       "      <td>80</td>\n",
       "      <td>0.005177</td>\n",
       "      <td>0.000874</td>\n",
       "      <td>21.875</td>\n",
       "      <td>1</td>\n",
       "      <td>24.803</td>\n",
       "      <td>32</td>\n",
       "      <td>1</td>\n",
       "    </tr>\n",
       "    <tr>\n",
       "      <th>1033</th>\n",
       "      <td>40</td>\n",
       "      <td>4.995</td>\n",
       "      <td>0.000399</td>\n",
       "      <td>2.643</td>\n",
       "      <td>2.105</td>\n",
       "      <td>7.928</td>\n",
       "      <td>13.251</td>\n",
       "      <td>1.245</td>\n",
       "      <td>6.796</td>\n",
       "      <td>7.201</td>\n",
       "      <td>...</td>\n",
       "      <td>142.985</td>\n",
       "      <td>56</td>\n",
       "      <td>52</td>\n",
       "      <td>0.007985</td>\n",
       "      <td>0.000695</td>\n",
       "      <td>25.806</td>\n",
       "      <td>1</td>\n",
       "      <td>13.716</td>\n",
       "      <td>1</td>\n",
       "      <td>0</td>\n",
       "    </tr>\n",
       "    <tr>\n",
       "      <th>560</th>\n",
       "      <td>22</td>\n",
       "      <td>1.924</td>\n",
       "      <td>0.000167</td>\n",
       "      <td>0.779</td>\n",
       "      <td>0.988</td>\n",
       "      <td>2.336</td>\n",
       "      <td>12.572</td>\n",
       "      <td>1.160</td>\n",
       "      <td>5.073</td>\n",
       "      <td>7.882</td>\n",
       "      <td>...</td>\n",
       "      <td>131.351</td>\n",
       "      <td>160</td>\n",
       "      <td>156</td>\n",
       "      <td>0.008696</td>\n",
       "      <td>0.000614</td>\n",
       "      <td>5.479</td>\n",
       "      <td>3</td>\n",
       "      <td>6.704</td>\n",
       "      <td>1</td>\n",
       "      <td>0</td>\n",
       "    </tr>\n",
       "    <tr>\n",
       "      <th>240</th>\n",
       "      <td>10</td>\n",
       "      <td>1.500</td>\n",
       "      <td>0.000151</td>\n",
       "      <td>0.637</td>\n",
       "      <td>0.628</td>\n",
       "      <td>1.910</td>\n",
       "      <td>8.145</td>\n",
       "      <td>0.729</td>\n",
       "      <td>3.264</td>\n",
       "      <td>4.471</td>\n",
       "      <td>...</td>\n",
       "      <td>104.837</td>\n",
       "      <td>23</td>\n",
       "      <td>22</td>\n",
       "      <td>0.010060</td>\n",
       "      <td>0.000562</td>\n",
       "      <td>39.474</td>\n",
       "      <td>0</td>\n",
       "      <td>0.000</td>\n",
       "      <td>12</td>\n",
       "      <td>1</td>\n",
       "    </tr>\n",
       "  </tbody>\n",
       "</table>\n",
       "<p>5 rows × 29 columns</p>\n",
       "</div>"
      ],
      "text/plain": [
       "      Subject ID  Jitter (local)  Jitter (local, abs)  Jitter (rap)  \\\n",
       "2              1           1.220             0.000074         0.732   \n",
       "444           18           3.074             0.000159         1.818   \n",
       "1033          40           4.995             0.000399         2.643   \n",
       "560           22           1.924             0.000167         0.779   \n",
       "240           10           1.500             0.000151         0.637   \n",
       "\n",
       "      Jitter (ppq5)  Jitter (ddp)  Shimmer (local)  Shimmer (local, dB)  \\\n",
       "2             0.670         2.196            8.719                0.875   \n",
       "444           1.840         5.455           14.213                1.345   \n",
       "1033          2.105         7.928           13.251                1.245   \n",
       "560           0.988         2.336           12.572                1.160   \n",
       "240           0.628         1.910            8.145                0.729   \n",
       "\n",
       "      Shimmer (apq3)  Shimmer (apq5)  ...  Max Pitch  Num Pulses  Num Periods  \\\n",
       "2              4.347           5.166  ...    211.442        1431         1427   \n",
       "444            7.810          10.250  ...    496.249          86           80   \n",
       "1033           6.796           7.201  ...    142.985          56           52   \n",
       "560            5.073           7.882  ...    131.351         160          156   \n",
       "240            3.264           4.471  ...    104.837          23           22   \n",
       "\n",
       "      Mean Period  Std Dev Periods  Frac Unvoiced Frames  Num  Breaks  \\\n",
       "2        0.006071         0.000474                10.656            1   \n",
       "444      0.005177         0.000874                21.875            1   \n",
       "1033     0.007985         0.000695                25.806            1   \n",
       "560      0.008696         0.000614                 5.479            3   \n",
       "240      0.010060         0.000562                39.474            0   \n",
       "\n",
       "      Degree of Breaks  UPDRS  class info  \n",
       "2                0.178     23           1  \n",
       "444             24.803     32           1  \n",
       "1033            13.716      1           0  \n",
       "560              6.704      1           0  \n",
       "240              0.000     12           1  \n",
       "\n",
       "[5 rows x 29 columns]"
      ]
     },
     "execution_count": 2,
     "metadata": {},
     "output_type": "execute_result"
    }
   ],
   "source": [
    "# Import Training Data\n",
    "# column names\n",
    "names = ['Subject ID',\n",
    "            'Jitter (local)', 'Jitter (local, abs)', 'Jitter (rap)', \n",
    "            'Jitter (ppq5)', 'Jitter (ddp)', 'Shimmer (local)', \n",
    "            'Shimmer (local, dB)', 'Shimmer (apq3)', 'Shimmer (apq5)', \n",
    "            'Shimmer (apq11)', 'Shimmer (dda)', 'AC', 'NTH', 'HTN',\n",
    "            'Median Pitch', 'Mean Pitch', 'Std Dev Pitch', 'Min Pitch', \n",
    "            'Max Pitch', 'Num Pulses', 'Num Periods', 'Mean Period',\n",
    "            'Std Dev Periods', 'Frac Unvoiced Frames', 'Num  Breaks',\n",
    "            'Degree of Breaks']\n",
    "# training column names\n",
    "train_names = names + ['UPDRS', 'class info']\n",
    "               \n",
    "df = pd.read_csv(\"Parkinson_Multiple_Sound_Recording/train_data.txt\", \n",
    "                       header=None,\n",
    "                       names =train_names)\n",
    "df.sample(5)"
   ]
  },
  {
   "cell_type": "code",
   "execution_count": 3,
   "metadata": {},
   "outputs": [],
   "source": [
    "'''Leave one out'''\n",
    "# given the input of a set of dataframes, [patients], representing each patient\n",
    "#  and a classifier, [clf], run leave one out\n",
    "def leave_one_out(patients, clf):\n",
    "    # create LOO splitter\n",
    "    loo = LeaveOneOut()\n",
    "    # create patient based splits\n",
    "    splits = loo.split(patients)\n",
    "    \n",
    "    # correct terms\n",
    "    tp = 0 # true +\n",
    "    tn = 0 # true -\n",
    "    fp = 0 # false +\n",
    "    fn = 0 # false -\n",
    "    \n",
    "    # for each split\n",
    "    for train_index, test_index in splits:\n",
    "        \n",
    "        # get testing data\n",
    "        df_test = patients[test_index[0]]\n",
    "        \n",
    "        # get training data - combining them all in patients\n",
    "        df_train = patients[train_index[0]]\n",
    "        for i in train_index[1:-1]:\n",
    "            df_train = df_train.append(patients[i])\n",
    "            \n",
    "        # Get examples\n",
    "        X_train = df_train.drop(['Subject ID', 'UPDRS', 'class info'], axis=1)\n",
    "        X_test  = df_test.drop(['Subject ID', 'UPDRS', 'class info'], axis=1)\n",
    "        # Get labels\n",
    "        Y_train = df_train['class info'].values\n",
    "        Y_test  = df_test['class info'].values\n",
    "        \n",
    "        # fit the classifier\n",
    "        clf.fit(X_train, Y_train)\n",
    "        \n",
    "        # predict on test\n",
    "        prediction = np.where(clf.predict(X_test) > 0.5, 1, 0)\n",
    "        # flag the correct entries\n",
    "        correct = np.where(prediction == Y_test, 1, 0)\n",
    "        # get the accuracy result\n",
    "        result = np.rint(correct.mean())\n",
    "    \n",
    "        # Correct\n",
    "        tp += result * Y_test\n",
    "        tn += result * (1-Y_test)\n",
    "        fp += (1-result) * (1-Y_test)\n",
    "        fn += (1-result) * Y_test\n",
    "        \n",
    "    # return the accuracy\n",
    "    return ((tp+tn) / loo.get_n_splits(patients))[0]"
   ]
  },
  {
   "cell_type": "code",
   "execution_count": 4,
   "metadata": {},
   "outputs": [],
   "source": [
    "'''Break into Per Patient DataFrames'''\n",
    "def patients(df):\n",
    "    p = {}\n",
    "    for i in df['Subject ID'].unique():\n",
    "        p[i-1] = df.loc[df['Subject ID'] == i]\n",
    "    return p"
   ]
  },
  {
   "cell_type": "code",
   "execution_count": 5,
   "metadata": {},
   "outputs": [],
   "source": [
    "'''Get Feature Features - mean + std'''\n",
    "def stats(df):\n",
    "    # initialize features\n",
    "    features = pd.DataFrame()\n",
    "    # for each column in DataFrame\n",
    "    for c in df.columns:\n",
    "        # create a new feature of its mean\n",
    "        features[c + ' mean'] = [df[c].mean(axis=0)]\n",
    "        # create a new feature of its std\n",
    "        features[c + ' std'] = [df[c].std(axis=0)]\n",
    "    # return features\n",
    "    return features"
   ]
  },
  {
   "cell_type": "code",
   "execution_count": 6,
   "metadata": {},
   "outputs": [],
   "source": [
    "'''Get Stats based Patients'''\n",
    "def stats_patients(df, pat_func=patients):\n",
    "    # get patients\n",
    "    p = pat_func(df)\n",
    "    # intialize stat based patients dictionary\n",
    "    s = {}\n",
    "    # for each patient\n",
    "    for (k,v) in p.items():\n",
    "        s[k] = stats(v).drop(['Subject ID mean', 'UPDRS mean', 'class info mean', \n",
    "                              'Subject ID std', 'UPDRS std', 'class info std',], axis=1)\n",
    "        s[k]['Subject ID'] = v['Subject ID'].values[0]\n",
    "        s[k]['UPDRS'] = v['UPDRS'].values[0]\n",
    "        s[k]['class info'] = v['class info'].values[0]\n",
    "    return s"
   ]
  },
  {
   "cell_type": "code",
   "execution_count": 7,
   "metadata": {},
   "outputs": [],
   "source": [
    "'''Normalize the features of each patient'''\n",
    "def normalize_patients(df):\n",
    "    # remove labels and ID\n",
    "    data = df.drop(['Subject ID', 'UPDRS', 'class info'], axis=1)\n",
    "    # create Scaler\n",
    "    scale = StandardScaler()\n",
    "    # fit and transfrom the data\n",
    "    normalized = pd.DataFrame(scale.fit_transform(data), columns=names[1:])\n",
    "    # put labels and ID back in\n",
    "    normalized['Subject ID'] = df['Subject ID']\n",
    "    normalized['UPDRS']      = df['UPDRS']\n",
    "    normalized['class info'] = df['class info']\n",
    "    \n",
    "    # break into patients and return\n",
    "    return patients(normalized)"
   ]
  },
  {
   "cell_type": "code",
   "execution_count": 8,
   "metadata": {},
   "outputs": [],
   "source": [
    "'''Normalized and Stats based for each patient'''\n",
    "def stats_norm_patients(df):\n",
    "    return stats_patients(df, pat_func=normalize_patients)"
   ]
  },
  {
   "cell_type": "markdown",
   "metadata": {},
   "source": [
    "#### Actually Run it now..."
   ]
  },
  {
   "cell_type": "code",
   "execution_count": 68,
   "metadata": {},
   "outputs": [
    {
     "name": "stdout",
     "output_type": "stream",
     "text": [
      "[[0.5   0.525 0.525 0.475]\n",
      " [0.525 0.4   0.575 0.525]\n",
      " [0.4   0.425 0.55  0.6  ]\n",
      " [0.425 0.375 0.575 0.525]]\n"
     ]
    },
    {
     "data": {
      "image/png": "[encoded data removed]",
      "text/plain": [
       "<Figure size 432x288 with 1 Axes>"
      ]
     },
     "metadata": {
      "needs_background": "light"
     },
     "output_type": "display_data"
    }
   ],
   "source": [
    "'''KNN'''\n",
    "# values of K\n",
    "K = [1,3,5,7]\n",
    "# preprocessing functions\n",
    "P = [patients, stats_patients, normalize_patients, stats_norm_patients]\n",
    "# results\n",
    "results = np.zeros((len(K), len(P)))\n",
    "\n",
    "# calculate them all\n",
    "for i in range(len(P)):\n",
    "    for j in range(len(K)):\n",
    "        results[i][j] = leave_one_out(P[j](df), KNeighborsClassifier(n_neighbors=K[i]))\n",
    "# results = np.reshape(np.arange(len(K)*len(P)), (len(K),-1))\n",
    "print(results)\n",
    "labels = ['Unmodified', 'Stats', 'Normalized', 'Normalized with Stats']\n",
    "plt.scatter(labels, results[0], marker='x', label=K[0])\n",
    "plt.scatter(labels, results[1], marker='x', label=K[1])\n",
    "plt.scatter(labels, results[2], marker='x', label=K[2])\n",
    "plt.scatter(labels, results[3], marker='x', label=K[3])\n",
    "plt.legend()\n",
    "plt.title('KNN Accuracy vs Preprocessing & K')\n",
    "plt.xlabel('Preprocessing Type')\n",
    "plt.ylabel('Accuracy')\n",
    "plt.show()"
   ]
  },
  {
   "cell_type": "code",
   "execution_count": 69,
   "metadata": {},
   "outputs": [
    {
     "name": "stdout",
     "output_type": "stream",
     "text": [
      "[0.525 0.575 0.525 0.7  ]\n"
     ]
    },
    {
     "data": {
      "image/png": "[encoded data removed]",
      "text/plain": [
       "<Figure size 432x288 with 1 Axes>"
      ]
     },
     "metadata": {
      "needs_background": "light"
     },
     "output_type": "display_data"
    }
   ],
   "source": [
    "'''Linear Regression'''\n",
    "# preprocessing functions\n",
    "P = [patients, stats_patients, normalize_patients, stats_norm_patients]\n",
    "# results\n",
    "results = np.zeros(len(P))\n",
    "\n",
    "# calculate them all\n",
    "for i in range(len(P)):\n",
    "    results[i] = leave_one_out(P[i](df), LinearRegression())\n",
    "print(results)\n",
    "labels = ['Unmodified', 'Stats', 'Normalized', 'Normalized with Stats']\n",
    "plt.scatter(labels, results, marker='x')\n",
    "plt.title('Linear Regression Accuracy vs Preprocessing')\n",
    "plt.xlabel('Preprocessing Type')\n",
    "plt.ylabel('Accuracy')\n",
    "plt.show()"
   ]
  },
  {
   "cell_type": "code",
   "execution_count": 66,
   "metadata": {},
   "outputs": [
    {
     "name": "stdout",
     "output_type": "stream",
     "text": [
      "[[0.575 0.575 0.575]\n",
      " [0.6   0.65  0.65 ]\n",
      " [0.5   0.475 0.475]\n",
      " [0.6   0.7   0.75 ]]\n"
     ]
    },
    {
     "data": {
      "image/png": "[encoded data removed]",
      "text/plain": [
       "<Figure size 432x288 with 1 Axes>"
      ]
     },
     "metadata": {
      "needs_background": "light"
     },
     "output_type": "display_data"
    }
   ],
   "source": [
    "'''Logistic Regression'''\n",
    "# supress warnings for non-convergence\n",
    "import warnings\n",
    "warnings.simplefilter('ignore')\n",
    "# preprocessing functions\n",
    "P = [patients, stats_patients, normalize_patients, stats_norm_patients]\n",
    "# Regularization Strength\n",
    "C = [1, 5, 10]\n",
    "# Solver\n",
    "## 'lbfgs' is definitely best -> has been checked\n",
    "\n",
    "# results\n",
    "results = np.zeros((len(P), len(C)))\n",
    "\n",
    "# calculate them all\n",
    "for i in range(len(P)):\n",
    "    for j in range(len(C)):\n",
    "        results[i][j] = leave_one_out(P[i](df), LogisticRegression(C=C[j], random_state=0, \n",
    "                                                                   solver='lbfgs'))\n",
    "\n",
    "# results = np.reshape(np.arange(len(P)*len(C)), (len(P),-1))\n",
    "print(results)\n",
    "labels = ['Unmodified', 'Stats', 'Normalized', 'Normalized with Stats']\n",
    "\n",
    "plt.scatter(labels, results.T[0], marker='x', label=C[0])\n",
    "plt.scatter(labels, results.T[1], marker='x', label=C[1])\n",
    "plt.scatter(labels, results.T[2], marker='x', label=C[2])\n",
    "plt.legend()\n",
    "plt.title('Logistic Regression Accuracy vs Preprocessing & Regularization Strength')\n",
    "plt.xlabel('Preprocessing Type')\n",
    "plt.ylabel('Accuracy')\n",
    "plt.show()"
   ]
  },
  {
   "cell_type": "code",
   "execution_count": 10,
   "metadata": {},
   "outputs": [
    {
     "name": "stdout",
     "output_type": "stream",
     "text": [
      "0 0\n",
      "0 1\n",
      "0 2\n",
      "1 0\n",
      "1 1\n",
      "1 2\n",
      "2 0\n",
      "2 1\n",
      "2 2\n",
      "[[0.625 0.625 0.625]\n",
      " [0.475 0.475 0.5  ]\n",
      " [0.6   0.775 0.8  ]]\n"
     ]
    },
    {
     "data": {
      "image/png": "[encoded data removed]",
      "text/plain": [
       "<Figure size 432x288 with 1 Axes>"
      ]
     },
     "metadata": {
      "needs_background": "light"
     },
     "output_type": "display_data"
    }
   ],
   "source": [
    "'''SVM - linear'''\n",
    "# supress warnings for non-convergence\n",
    "# preprocessing functions\n",
    "P = [stats_patients, normalize_patients, stats_norm_patients]\n",
    "# Regularization Strength\n",
    "C = [1,5,10]\n",
    "\n",
    "# results\n",
    "results = np.zeros((len(P), len(C)))\n",
    "\n",
    "# calculate them all\n",
    "for i in range(len(P)):\n",
    "    for j in range(len(C)):\n",
    "        print(i,j)\n",
    "        results[i][j] = leave_one_out(P[i](df), SVC(kernel='linear', gamma='auto', C=C[j]))\n",
    "\n",
    "# results = np.reshape(np.arange(len(P)*len(C)), (len(P),-1))\n",
    "print(results)\n",
    "labels = ['Stats', 'Normalized', 'Normalized with Stats']\n",
    "\n",
    "plt.scatter(labels, results.T[0], marker='x', label=C[0])\n",
    "plt.scatter(labels, results.T[1], marker='x', label=C[1])\n",
    "plt.scatter(labels, results.T[2], marker='x', label=C[2])\n",
    "plt.legend()\n",
    "plt.title('Linear SVM Accuracy vs Preprocessing & Cost Parameter')\n",
    "plt.xlabel('Preprocessing Type')\n",
    "plt.ylabel('Accuracy')\n",
    "plt.show()"
   ]
  },
  {
   "cell_type": "code",
   "execution_count": 14,
   "metadata": {},
   "outputs": [
    {
     "name": "stdout",
     "output_type": "stream",
     "text": [
      "0 0\n",
      "0 1\n",
      "0 2\n",
      "0 3\n",
      "0 4\n",
      "1 0\n",
      "1 1\n",
      "1 2\n",
      "1 3\n",
      "1 4\n",
      "2 0\n",
      "2 1\n",
      "2 2\n",
      "2 3\n",
      "2 4\n",
      "[[0.5   0.35  0.05  0.35  0.475]\n",
      " [0.175 0.575 0.6   0.5   0.45 ]\n",
      " [0.4   0.5   0.525 0.325 0.4  ]]\n"
     ]
    },
    {
     "data": {
      "image/png": "[encoded data removed]",
      "text/plain": [
       "<Figure size 432x288 with 1 Axes>"
      ]
     },
     "metadata": {
      "needs_background": "light"
     },
     "output_type": "display_data"
    }
   ],
   "source": [
    "'''SVM - RBF'''\n",
    "# supress warnings for non-convergence\n",
    "# preprocessing functions\n",
    "P = [stats_patients, normalize_patients, stats_norm_patients]\n",
    "# Regularization Strength\n",
    "C = 10\n",
    "# Gamma\n",
    "G = [0, 1, 2, 3, 4]\n",
    "\n",
    "# results\n",
    "results = np.zeros((len(P), len(G)))\n",
    "\n",
    "# calculate them all\n",
    "for i in range(len(P)):\n",
    "    for k in range(len(G)):\n",
    "        print(i,k)\n",
    "        results[i][k] = leave_one_out(P[i](df), SVC(kernel='rbf', gamma=1*10**(-k), C=C))\n",
    "\n",
    "# results = np.reshape(np.arange(len(P)*len(C)), (len(P),-1))\n",
    "print(results)\n",
    "labels = ['Stats', 'Normalized', 'Normalized with Stats']\n",
    "\n",
    "plt.scatter(labels, results.T[0], marker='x', label=G[0])\n",
    "plt.scatter(labels, results.T[1], marker='x', label=G[1])\n",
    "plt.scatter(labels, results.T[2], marker='x', label=G[2])\n",
    "plt.legend()\n",
    "plt.title('RBF SVM Accuracy vs Preprocessing & Gamma Magnitude')\n",
    "plt.xlabel('Preprocessing Type')\n",
    "plt.ylabel('Accuracy')\n",
    "plt.show()"
   ]
  },
  {
   "cell_type": "code",
   "execution_count": 16,
   "metadata": {},
   "outputs": [
    {
     "name": "stdout",
     "output_type": "stream",
     "text": [
      "0 0\n",
      "0 1\n",
      "0 2\n",
      "1 0\n",
      "1 1\n"
     ]
    },
    {
     "ename": "KeyboardInterrupt",
     "evalue": "",
     "output_type": "error",
     "traceback": [
      "\u001b[1;31m---------------------------------------------------------------------------\u001b[0m",
      "\u001b[1;31mKeyboardInterrupt\u001b[0m                         Traceback (most recent call last)",
      "\u001b[1;32m<ipython-input-16-15c62cb7564d>\u001b[0m in \u001b[0;36m<module>\u001b[1;34m\u001b[0m\n\u001b[0;32m     13\u001b[0m     \u001b[1;32mfor\u001b[0m \u001b[0mj\u001b[0m \u001b[1;32min\u001b[0m \u001b[0mrange\u001b[0m\u001b[1;33m(\u001b[0m\u001b[0mlen\u001b[0m\u001b[1;33m(\u001b[0m\u001b[0mpoly\u001b[0m\u001b[1;33m)\u001b[0m\u001b[1;33m)\u001b[0m\u001b[1;33m:\u001b[0m\u001b[1;33m\u001b[0m\u001b[1;33m\u001b[0m\u001b[0m\n\u001b[0;32m     14\u001b[0m         \u001b[0mprint\u001b[0m\u001b[1;33m(\u001b[0m\u001b[0mi\u001b[0m\u001b[1;33m,\u001b[0m\u001b[0mj\u001b[0m\u001b[1;33m)\u001b[0m\u001b[1;33m\u001b[0m\u001b[1;33m\u001b[0m\u001b[0m\n\u001b[1;32m---> 15\u001b[1;33m         \u001b[0mresults\u001b[0m\u001b[1;33m[\u001b[0m\u001b[0mi\u001b[0m\u001b[1;33m]\u001b[0m\u001b[1;33m[\u001b[0m\u001b[0mj\u001b[0m\u001b[1;33m]\u001b[0m \u001b[1;33m=\u001b[0m \u001b[0mleave_one_out\u001b[0m\u001b[1;33m(\u001b[0m\u001b[0mP\u001b[0m\u001b[1;33m[\u001b[0m\u001b[0mi\u001b[0m\u001b[1;33m]\u001b[0m\u001b[1;33m(\u001b[0m\u001b[0mdf\u001b[0m\u001b[1;33m)\u001b[0m\u001b[1;33m,\u001b[0m \u001b[0mSVC\u001b[0m\u001b[1;33m(\u001b[0m\u001b[0mkernel\u001b[0m\u001b[1;33m=\u001b[0m\u001b[1;34m'poly'\u001b[0m\u001b[1;33m,\u001b[0m \u001b[0mgamma\u001b[0m\u001b[1;33m=\u001b[0m\u001b[1;36m1\u001b[0m\u001b[1;33m,\u001b[0m \u001b[0mdegree\u001b[0m\u001b[1;33m=\u001b[0m\u001b[0mpoly\u001b[0m\u001b[1;33m[\u001b[0m\u001b[0mj\u001b[0m\u001b[1;33m]\u001b[0m\u001b[1;33m,\u001b[0m \u001b[0mC\u001b[0m\u001b[1;33m=\u001b[0m\u001b[1;36m10\u001b[0m\u001b[1;33m)\u001b[0m\u001b[1;33m)\u001b[0m\u001b[1;33m\u001b[0m\u001b[1;33m\u001b[0m\u001b[0m\n\u001b[0m\u001b[0;32m     16\u001b[0m \u001b[1;33m\u001b[0m\u001b[0m\n\u001b[0;32m     17\u001b[0m \u001b[1;31m# results = np.reshape(np.arange(len(P)*len(C)), (len(P),-1))\u001b[0m\u001b[1;33m\u001b[0m\u001b[1;33m\u001b[0m\u001b[1;33m\u001b[0m\u001b[0m\n",
      "\u001b[1;32m<ipython-input-3-c76697db8e88>\u001b[0m in \u001b[0;36mleave_one_out\u001b[1;34m(patients, clf)\u001b[0m\n\u001b[0;32m     23\u001b[0m         \u001b[0mdf_train\u001b[0m \u001b[1;33m=\u001b[0m \u001b[0mpatients\u001b[0m\u001b[1;33m[\u001b[0m\u001b[0mtrain_index\u001b[0m\u001b[1;33m[\u001b[0m\u001b[1;36m0\u001b[0m\u001b[1;33m]\u001b[0m\u001b[1;33m]\u001b[0m\u001b[1;33m\u001b[0m\u001b[1;33m\u001b[0m\u001b[0m\n\u001b[0;32m     24\u001b[0m         \u001b[1;32mfor\u001b[0m \u001b[0mi\u001b[0m \u001b[1;32min\u001b[0m \u001b[0mtrain_index\u001b[0m\u001b[1;33m[\u001b[0m\u001b[1;36m1\u001b[0m\u001b[1;33m:\u001b[0m\u001b[1;33m-\u001b[0m\u001b[1;36m1\u001b[0m\u001b[1;33m]\u001b[0m\u001b[1;33m:\u001b[0m\u001b[1;33m\u001b[0m\u001b[1;33m\u001b[0m\u001b[0m\n\u001b[1;32m---> 25\u001b[1;33m             \u001b[0mdf_train\u001b[0m \u001b[1;33m=\u001b[0m \u001b[0mdf_train\u001b[0m\u001b[1;33m.\u001b[0m\u001b[0mappend\u001b[0m\u001b[1;33m(\u001b[0m\u001b[0mpatients\u001b[0m\u001b[1;33m[\u001b[0m\u001b[0mi\u001b[0m\u001b[1;33m]\u001b[0m\u001b[1;33m)\u001b[0m\u001b[1;33m\u001b[0m\u001b[1;33m\u001b[0m\u001b[0m\n\u001b[0m\u001b[0;32m     26\u001b[0m \u001b[1;33m\u001b[0m\u001b[0m\n\u001b[0;32m     27\u001b[0m         \u001b[1;31m# Get examples\u001b[0m\u001b[1;33m\u001b[0m\u001b[1;33m\u001b[0m\u001b[1;33m\u001b[0m\u001b[0m\n",
      "\u001b[1;32mc:\\users\\nacom\\appdata\\local\\programs\\python\\python37-32\\lib\\site-packages\\pandas\\core\\frame.py\u001b[0m in \u001b[0;36mappend\u001b[1;34m(self, other, ignore_index, verify_integrity, sort)\u001b[0m\n\u001b[0;32m   7136\u001b[0m             \u001b[0mignore_index\u001b[0m\u001b[1;33m=\u001b[0m\u001b[0mignore_index\u001b[0m\u001b[1;33m,\u001b[0m\u001b[1;33m\u001b[0m\u001b[1;33m\u001b[0m\u001b[0m\n\u001b[0;32m   7137\u001b[0m             \u001b[0mverify_integrity\u001b[0m\u001b[1;33m=\u001b[0m\u001b[0mverify_integrity\u001b[0m\u001b[1;33m,\u001b[0m\u001b[1;33m\u001b[0m\u001b[1;33m\u001b[0m\u001b[0m\n\u001b[1;32m-> 7138\u001b[1;33m             \u001b[0msort\u001b[0m\u001b[1;33m=\u001b[0m\u001b[0msort\u001b[0m\u001b[1;33m,\u001b[0m\u001b[1;33m\u001b[0m\u001b[1;33m\u001b[0m\u001b[0m\n\u001b[0m\u001b[0;32m   7139\u001b[0m         )\n\u001b[0;32m   7140\u001b[0m \u001b[1;33m\u001b[0m\u001b[0m\n",
      "\u001b[1;32mc:\\users\\nacom\\appdata\\local\\programs\\python\\python37-32\\lib\\site-packages\\pandas\\core\\reshape\\concat.py\u001b[0m in \u001b[0;36mconcat\u001b[1;34m(objs, axis, join, join_axes, ignore_index, keys, levels, names, verify_integrity, sort, copy)\u001b[0m\n\u001b[0;32m    256\u001b[0m     )\n\u001b[0;32m    257\u001b[0m \u001b[1;33m\u001b[0m\u001b[0m\n\u001b[1;32m--> 258\u001b[1;33m     \u001b[1;32mreturn\u001b[0m \u001b[0mop\u001b[0m\u001b[1;33m.\u001b[0m\u001b[0mget_result\u001b[0m\u001b[1;33m(\u001b[0m\u001b[1;33m)\u001b[0m\u001b[1;33m\u001b[0m\u001b[1;33m\u001b[0m\u001b[0m\n\u001b[0m\u001b[0;32m    259\u001b[0m \u001b[1;33m\u001b[0m\u001b[0m\n\u001b[0;32m    260\u001b[0m \u001b[1;33m\u001b[0m\u001b[0m\n",
      "\u001b[1;32mc:\\users\\nacom\\appdata\\local\\programs\\python\\python37-32\\lib\\site-packages\\pandas\\core\\reshape\\concat.py\u001b[0m in \u001b[0;36mget_result\u001b[1;34m(self)\u001b[0m\n\u001b[0;32m    471\u001b[0m \u001b[1;33m\u001b[0m\u001b[0m\n\u001b[0;32m    472\u001b[0m             new_data = concatenate_block_managers(\n\u001b[1;32m--> 473\u001b[1;33m                 \u001b[0mmgrs_indexers\u001b[0m\u001b[1;33m,\u001b[0m \u001b[0mself\u001b[0m\u001b[1;33m.\u001b[0m\u001b[0mnew_axes\u001b[0m\u001b[1;33m,\u001b[0m \u001b[0mconcat_axis\u001b[0m\u001b[1;33m=\u001b[0m\u001b[0mself\u001b[0m\u001b[1;33m.\u001b[0m\u001b[0maxis\u001b[0m\u001b[1;33m,\u001b[0m \u001b[0mcopy\u001b[0m\u001b[1;33m=\u001b[0m\u001b[0mself\u001b[0m\u001b[1;33m.\u001b[0m\u001b[0mcopy\u001b[0m\u001b[1;33m\u001b[0m\u001b[1;33m\u001b[0m\u001b[0m\n\u001b[0m\u001b[0;32m    474\u001b[0m             )\n\u001b[0;32m    475\u001b[0m             \u001b[1;32mif\u001b[0m \u001b[1;32mnot\u001b[0m \u001b[0mself\u001b[0m\u001b[1;33m.\u001b[0m\u001b[0mcopy\u001b[0m\u001b[1;33m:\u001b[0m\u001b[1;33m\u001b[0m\u001b[1;33m\u001b[0m\u001b[0m\n",
      "\u001b[1;32mc:\\users\\nacom\\appdata\\local\\programs\\python\\python37-32\\lib\\site-packages\\pandas\\core\\internals\\managers.py\u001b[0m in \u001b[0;36mconcatenate_block_managers\u001b[1;34m(mgrs_indexers, axes, concat_axis, copy)\u001b[0m\n\u001b[0;32m   2048\u001b[0m         \u001b[1;32melif\u001b[0m \u001b[0mis_uniform_join_units\u001b[0m\u001b[1;33m(\u001b[0m\u001b[0mjoin_units\u001b[0m\u001b[1;33m)\u001b[0m\u001b[1;33m:\u001b[0m\u001b[1;33m\u001b[0m\u001b[1;33m\u001b[0m\u001b[0m\n\u001b[0;32m   2049\u001b[0m             b = join_units[0].block.concat_same_type(\n\u001b[1;32m-> 2050\u001b[1;33m                 \u001b[1;33m[\u001b[0m\u001b[0mju\u001b[0m\u001b[1;33m.\u001b[0m\u001b[0mblock\u001b[0m \u001b[1;32mfor\u001b[0m \u001b[0mju\u001b[0m \u001b[1;32min\u001b[0m \u001b[0mjoin_units\u001b[0m\u001b[1;33m]\u001b[0m\u001b[1;33m,\u001b[0m \u001b[0mplacement\u001b[0m\u001b[1;33m=\u001b[0m\u001b[0mplacement\u001b[0m\u001b[1;33m\u001b[0m\u001b[1;33m\u001b[0m\u001b[0m\n\u001b[0m\u001b[0;32m   2051\u001b[0m             )\n\u001b[0;32m   2052\u001b[0m         \u001b[1;32melse\u001b[0m\u001b[1;33m:\u001b[0m\u001b[1;33m\u001b[0m\u001b[1;33m\u001b[0m\u001b[0m\n",
      "\u001b[1;32mc:\\users\\nacom\\appdata\\local\\programs\\python\\python37-32\\lib\\site-packages\\pandas\\core\\internals\\blocks.py\u001b[0m in \u001b[0;36mconcat_same_type\u001b[1;34m(self, to_concat, placement)\u001b[0m\n\u001b[0;32m    361\u001b[0m         \"\"\"\n\u001b[0;32m    362\u001b[0m         values = self._concatenator(\n\u001b[1;32m--> 363\u001b[1;33m             \u001b[1;33m[\u001b[0m\u001b[0mblk\u001b[0m\u001b[1;33m.\u001b[0m\u001b[0mvalues\u001b[0m \u001b[1;32mfor\u001b[0m \u001b[0mblk\u001b[0m \u001b[1;32min\u001b[0m \u001b[0mto_concat\u001b[0m\u001b[1;33m]\u001b[0m\u001b[1;33m,\u001b[0m \u001b[0maxis\u001b[0m\u001b[1;33m=\u001b[0m\u001b[0mself\u001b[0m\u001b[1;33m.\u001b[0m\u001b[0mndim\u001b[0m \u001b[1;33m-\u001b[0m \u001b[1;36m1\u001b[0m\u001b[1;33m\u001b[0m\u001b[1;33m\u001b[0m\u001b[0m\n\u001b[0m\u001b[0;32m    364\u001b[0m         )\n\u001b[0;32m    365\u001b[0m         return self.make_block_same_class(\n",
      "\u001b[1;32m<__array_function__ internals>\u001b[0m in \u001b[0;36mconcatenate\u001b[1;34m(*args, **kwargs)\u001b[0m\n",
      "\u001b[1;31mKeyboardInterrupt\u001b[0m: "
     ]
    }
   ],
   "source": [
    "'''SVM - Poly'''\n",
    "# supress warnings for non-convergence\n",
    "# preprocessing functions\n",
    "P = [stats_patients, normalize_patients, stats_norm_patients]\n",
    "# Regularization Strength\n",
    "poly = [1,3,5]\n",
    "\n",
    "# results\n",
    "results = np.zeros((len(P), len(poly)))\n",
    "\n",
    "# calculate them all\n",
    "for i in range(len(P)):\n",
    "    for j in range(len(poly)):\n",
    "        print(i,j)\n",
    "        results[i][j] = leave_one_out(P[i](df), SVC(kernel='poly', gamma=1, degree=poly[j], C=10))\n",
    "\n",
    "# results = np.reshape(np.arange(len(P)*len(C)), (len(P),-1))\n",
    "print(results)\n",
    "labels = ['Stats', 'Normalized', 'Normalized with Stats']\n",
    "\n",
    "plt.scatter(labels, results.T[0], marker='x', label=poly[0])\n",
    "plt.scatter(labels, results.T[1], marker='x', label=poly[1])\n",
    "plt.scatter(labels, results.T[2], marker='x', label=poly[2])\n",
    "plt.legend()\n",
    "plt.title('Polynomial SVM Accuracy vs Preprocessing & Degree')\n",
    "plt.xlabel('Preprocessing Type')\n",
    "plt.ylabel('Accuracy')\n",
    "plt.show()"
   ]
  },
  {
   "cell_type": "code",
   "execution_count": 32,
   "metadata": {},
   "outputs": [
    {
     "name": "stdout",
     "output_type": "stream",
     "text": [
      "0 0 0\n",
      "0 0 1\n",
      "0 0 2\n",
      "0 0 3\n",
      "0 0 4\n",
      "0 1 0\n",
      "0 1 1\n",
      "0 1 2\n",
      "0 1 3\n",
      "0 1 4\n",
      "0 2 0\n",
      "0 2 1\n",
      "0 2 2\n",
      "0 2 3\n",
      "0 2 4\n",
      "1 0 0\n",
      "1 0 1\n",
      "1 0 2\n",
      "1 0 3\n",
      "1 0 4\n",
      "1 1 0\n",
      "1 1 1\n",
      "1 1 2\n",
      "1 1 3\n",
      "1 1 4\n",
      "1 2 0\n",
      "1 2 1\n",
      "1 2 2\n",
      "1 2 3\n",
      "1 2 4\n",
      "2 0 0\n",
      "2 0 1\n",
      "2 0 2\n",
      "2 0 3\n",
      "2 0 4\n",
      "2 1 0\n",
      "2 1 1\n",
      "2 1 2\n",
      "2 1 3\n",
      "2 1 4\n",
      "2 2 0\n",
      "2 2 1\n",
      "2 2 2\n",
      "2 2 3\n",
      "2 2 4\n",
      "[[[0.5   0.5   0.5   0.5   0.475]\n",
      "  [0.5   0.5   0.5   0.5   0.475]\n",
      "  [0.5   0.5   0.5   0.5   0.475]]\n",
      "\n",
      " [[0.55  0.475 0.575 0.375 0.275]\n",
      "  [0.45  0.475 0.5   0.55  0.325]\n",
      "  [0.45  0.475 0.475 0.525 0.375]]\n",
      "\n",
      " [[0.4   0.8   0.275 0.4   0.4  ]\n",
      "  [0.525 0.575 0.575 0.4   0.4  ]\n",
      "  [0.5   0.575 0.475 0.4   0.4  ]]]\n"
     ]
    },
    {
     "ename": "ValueError",
     "evalue": "x and y must be the same size",
     "output_type": "error",
     "traceback": [
      "\u001b[1;31m---------------------------------------------------------------------------\u001b[0m",
      "\u001b[1;31mValueError\u001b[0m                                Traceback (most recent call last)",
      "\u001b[1;32m<ipython-input-32-331481b29ffc>\u001b[0m in \u001b[0;36m<module>\u001b[1;34m\u001b[0m\n\u001b[0;32m     22\u001b[0m \u001b[0mlabels\u001b[0m \u001b[1;33m=\u001b[0m \u001b[1;33m[\u001b[0m\u001b[1;34m'Stats'\u001b[0m\u001b[1;33m,\u001b[0m \u001b[1;34m'Normalized'\u001b[0m\u001b[1;33m,\u001b[0m \u001b[1;34m'Normalized with Stats'\u001b[0m\u001b[1;33m]\u001b[0m\u001b[1;33m\u001b[0m\u001b[1;33m\u001b[0m\u001b[0m\n\u001b[0;32m     23\u001b[0m \u001b[1;33m\u001b[0m\u001b[0m\n\u001b[1;32m---> 24\u001b[1;33m \u001b[0mplt\u001b[0m\u001b[1;33m.\u001b[0m\u001b[0mscatter\u001b[0m\u001b[1;33m(\u001b[0m\u001b[0mlabels\u001b[0m\u001b[1;33m,\u001b[0m \u001b[0mresults\u001b[0m\u001b[1;33m.\u001b[0m\u001b[0mT\u001b[0m\u001b[1;33m[\u001b[0m\u001b[1;36m0\u001b[0m\u001b[1;33m]\u001b[0m\u001b[1;33m,\u001b[0m \u001b[0mmarker\u001b[0m\u001b[1;33m=\u001b[0m\u001b[1;34m'x'\u001b[0m\u001b[1;33m,\u001b[0m \u001b[0mlabel\u001b[0m\u001b[1;33m=\u001b[0m\u001b[0mG\u001b[0m\u001b[1;33m[\u001b[0m\u001b[1;36m0\u001b[0m\u001b[1;33m]\u001b[0m\u001b[1;33m)\u001b[0m\u001b[1;33m\u001b[0m\u001b[1;33m\u001b[0m\u001b[0m\n\u001b[0m\u001b[0;32m     25\u001b[0m \u001b[0mplt\u001b[0m\u001b[1;33m.\u001b[0m\u001b[0mscatter\u001b[0m\u001b[1;33m(\u001b[0m\u001b[0mlabels\u001b[0m\u001b[1;33m,\u001b[0m \u001b[0mresults\u001b[0m\u001b[1;33m.\u001b[0m\u001b[0mT\u001b[0m\u001b[1;33m[\u001b[0m\u001b[1;36m1\u001b[0m\u001b[1;33m]\u001b[0m\u001b[1;33m,\u001b[0m \u001b[0mmarker\u001b[0m\u001b[1;33m=\u001b[0m\u001b[1;34m'x'\u001b[0m\u001b[1;33m,\u001b[0m \u001b[0mlabel\u001b[0m\u001b[1;33m=\u001b[0m\u001b[0mG\u001b[0m\u001b[1;33m[\u001b[0m\u001b[1;36m1\u001b[0m\u001b[1;33m]\u001b[0m\u001b[1;33m)\u001b[0m\u001b[1;33m\u001b[0m\u001b[1;33m\u001b[0m\u001b[0m\n\u001b[0;32m     26\u001b[0m \u001b[0mplt\u001b[0m\u001b[1;33m.\u001b[0m\u001b[0mscatter\u001b[0m\u001b[1;33m(\u001b[0m\u001b[0mlabels\u001b[0m\u001b[1;33m,\u001b[0m \u001b[0mresults\u001b[0m\u001b[1;33m.\u001b[0m\u001b[0mT\u001b[0m\u001b[1;33m[\u001b[0m\u001b[1;36m2\u001b[0m\u001b[1;33m]\u001b[0m\u001b[1;33m,\u001b[0m \u001b[0mmarker\u001b[0m\u001b[1;33m=\u001b[0m\u001b[1;34m'x'\u001b[0m\u001b[1;33m,\u001b[0m \u001b[0mlabel\u001b[0m\u001b[1;33m=\u001b[0m\u001b[0mG\u001b[0m\u001b[1;33m[\u001b[0m\u001b[1;36m2\u001b[0m\u001b[1;33m]\u001b[0m\u001b[1;33m)\u001b[0m\u001b[1;33m\u001b[0m\u001b[1;33m\u001b[0m\u001b[0m\n",
      "\u001b[1;32mc:\\users\\nacom\\appdata\\local\\programs\\python\\python37-32\\lib\\site-packages\\matplotlib\\pyplot.py\u001b[0m in \u001b[0;36mscatter\u001b[1;34m(x, y, s, c, marker, cmap, norm, vmin, vmax, alpha, linewidths, verts, edgecolors, plotnonfinite, data, **kwargs)\u001b[0m\n\u001b[0;32m   2845\u001b[0m         \u001b[0mverts\u001b[0m\u001b[1;33m=\u001b[0m\u001b[0mverts\u001b[0m\u001b[1;33m,\u001b[0m \u001b[0medgecolors\u001b[0m\u001b[1;33m=\u001b[0m\u001b[0medgecolors\u001b[0m\u001b[1;33m,\u001b[0m\u001b[1;33m\u001b[0m\u001b[1;33m\u001b[0m\u001b[0m\n\u001b[0;32m   2846\u001b[0m         plotnonfinite=plotnonfinite, **({\"data\": data} if data is not\n\u001b[1;32m-> 2847\u001b[1;33m         None else {}), **kwargs)\n\u001b[0m\u001b[0;32m   2848\u001b[0m     \u001b[0msci\u001b[0m\u001b[1;33m(\u001b[0m\u001b[0m__ret\u001b[0m\u001b[1;33m)\u001b[0m\u001b[1;33m\u001b[0m\u001b[1;33m\u001b[0m\u001b[0m\n\u001b[0;32m   2849\u001b[0m     \u001b[1;32mreturn\u001b[0m \u001b[0m__ret\u001b[0m\u001b[1;33m\u001b[0m\u001b[1;33m\u001b[0m\u001b[0m\n",
      "\u001b[1;32mc:\\users\\nacom\\appdata\\local\\programs\\python\\python37-32\\lib\\site-packages\\matplotlib\\__init__.py\u001b[0m in \u001b[0;36minner\u001b[1;34m(ax, data, *args, **kwargs)\u001b[0m\n\u001b[0;32m   1599\u001b[0m     \u001b[1;32mdef\u001b[0m \u001b[0minner\u001b[0m\u001b[1;33m(\u001b[0m\u001b[0max\u001b[0m\u001b[1;33m,\u001b[0m \u001b[1;33m*\u001b[0m\u001b[0margs\u001b[0m\u001b[1;33m,\u001b[0m \u001b[0mdata\u001b[0m\u001b[1;33m=\u001b[0m\u001b[1;32mNone\u001b[0m\u001b[1;33m,\u001b[0m \u001b[1;33m**\u001b[0m\u001b[0mkwargs\u001b[0m\u001b[1;33m)\u001b[0m\u001b[1;33m:\u001b[0m\u001b[1;33m\u001b[0m\u001b[1;33m\u001b[0m\u001b[0m\n\u001b[0;32m   1600\u001b[0m         \u001b[1;32mif\u001b[0m \u001b[0mdata\u001b[0m \u001b[1;32mis\u001b[0m \u001b[1;32mNone\u001b[0m\u001b[1;33m:\u001b[0m\u001b[1;33m\u001b[0m\u001b[1;33m\u001b[0m\u001b[0m\n\u001b[1;32m-> 1601\u001b[1;33m             \u001b[1;32mreturn\u001b[0m \u001b[0mfunc\u001b[0m\u001b[1;33m(\u001b[0m\u001b[0max\u001b[0m\u001b[1;33m,\u001b[0m \u001b[1;33m*\u001b[0m\u001b[0mmap\u001b[0m\u001b[1;33m(\u001b[0m\u001b[0msanitize_sequence\u001b[0m\u001b[1;33m,\u001b[0m \u001b[0margs\u001b[0m\u001b[1;33m)\u001b[0m\u001b[1;33m,\u001b[0m \u001b[1;33m**\u001b[0m\u001b[0mkwargs\u001b[0m\u001b[1;33m)\u001b[0m\u001b[1;33m\u001b[0m\u001b[1;33m\u001b[0m\u001b[0m\n\u001b[0m\u001b[0;32m   1602\u001b[0m \u001b[1;33m\u001b[0m\u001b[0m\n\u001b[0;32m   1603\u001b[0m         \u001b[0mbound\u001b[0m \u001b[1;33m=\u001b[0m \u001b[0mnew_sig\u001b[0m\u001b[1;33m.\u001b[0m\u001b[0mbind\u001b[0m\u001b[1;33m(\u001b[0m\u001b[0max\u001b[0m\u001b[1;33m,\u001b[0m \u001b[1;33m*\u001b[0m\u001b[0margs\u001b[0m\u001b[1;33m,\u001b[0m \u001b[1;33m**\u001b[0m\u001b[0mkwargs\u001b[0m\u001b[1;33m)\u001b[0m\u001b[1;33m\u001b[0m\u001b[1;33m\u001b[0m\u001b[0m\n",
      "\u001b[1;32mc:\\users\\nacom\\appdata\\local\\programs\\python\\python37-32\\lib\\site-packages\\matplotlib\\axes\\_axes.py\u001b[0m in \u001b[0;36mscatter\u001b[1;34m(self, x, y, s, c, marker, cmap, norm, vmin, vmax, alpha, linewidths, verts, edgecolors, plotnonfinite, **kwargs)\u001b[0m\n\u001b[0;32m   4442\u001b[0m         \u001b[0my\u001b[0m \u001b[1;33m=\u001b[0m \u001b[0mnp\u001b[0m\u001b[1;33m.\u001b[0m\u001b[0mma\u001b[0m\u001b[1;33m.\u001b[0m\u001b[0mravel\u001b[0m\u001b[1;33m(\u001b[0m\u001b[0my\u001b[0m\u001b[1;33m)\u001b[0m\u001b[1;33m\u001b[0m\u001b[1;33m\u001b[0m\u001b[0m\n\u001b[0;32m   4443\u001b[0m         \u001b[1;32mif\u001b[0m \u001b[0mx\u001b[0m\u001b[1;33m.\u001b[0m\u001b[0msize\u001b[0m \u001b[1;33m!=\u001b[0m \u001b[0my\u001b[0m\u001b[1;33m.\u001b[0m\u001b[0msize\u001b[0m\u001b[1;33m:\u001b[0m\u001b[1;33m\u001b[0m\u001b[1;33m\u001b[0m\u001b[0m\n\u001b[1;32m-> 4444\u001b[1;33m             \u001b[1;32mraise\u001b[0m \u001b[0mValueError\u001b[0m\u001b[1;33m(\u001b[0m\u001b[1;34m\"x and y must be the same size\"\u001b[0m\u001b[1;33m)\u001b[0m\u001b[1;33m\u001b[0m\u001b[1;33m\u001b[0m\u001b[0m\n\u001b[0m\u001b[0;32m   4445\u001b[0m \u001b[1;33m\u001b[0m\u001b[0m\n\u001b[0;32m   4446\u001b[0m         \u001b[1;32mif\u001b[0m \u001b[0ms\u001b[0m \u001b[1;32mis\u001b[0m \u001b[1;32mNone\u001b[0m\u001b[1;33m:\u001b[0m\u001b[1;33m\u001b[0m\u001b[1;33m\u001b[0m\u001b[0m\n",
      "\u001b[1;31mValueError\u001b[0m: x and y must be the same size"
     ]
    },
    {
     "data": {
      "image/png": "[encoded data removed]",
      "text/plain": [
       "<Figure size 432x288 with 1 Axes>"
      ]
     },
     "metadata": {
      "needs_background": "light"
     },
     "output_type": "display_data"
    }
   ],
   "source": [
    "'''SVM - Sigmoid'''\n",
    "# supress warnings for non-convergence\n",
    "# preprocessing functions\n",
    "P = [stats_patients, normalize_patients, stats_norm_patients]\n",
    "# Regularization Strength\n",
    "C = [1,5,10]\n",
    "# Gamma\n",
    "G = [0, 1, 2, 3, 4]\n",
    "\n",
    "# results\n",
    "results = np.zeros((len(P), len(C), len(G)))\n",
    "\n",
    "# calculate them all\n",
    "for i in range(len(P)):\n",
    "    for j in range(len(C)):\n",
    "        for k in range(len(G)):\n",
    "            print(i,j,k)\n",
    "            results[i][j][k] = leave_one_out(P[i](df), SVC(kernel='sigmoid', gamma=1*10**(-G[k]), C=C[j]))\n",
    "\n",
    "# results = np.reshape(np.arange(len(P)*len(C)), (len(P),-1))\n",
    "print(results)\n",
    "labels = ['Stats', 'Normalized', 'Normalized with Stats']\n",
    "\n",
    "plt.scatter(labels, results.T[0], marker='x', label=G[0])\n",
    "plt.scatter(labels, results.T[1], marker='x', label=G[1])\n",
    "plt.scatter(labels, results.T[2], marker='x', label=G[2])\n",
    "plt.legend()\n",
    "plt.title('Sigmoid SVM Accuracy vs Preprocessing & Gamma Magnitude')\n",
    "plt.xlabel('Preprocessing Type')\n",
    "plt.ylabel('Accuracy')\n",
    "plt.show()"
   ]
  },
  {
   "cell_type": "code",
   "execution_count": 31,
   "metadata": {},
   "outputs": [
    {
     "name": "stdout",
     "output_type": "stream",
     "text": [
      "1 0.525\n",
      "2 0.525\n",
      "3 0.55\n",
      "4 0.55\n",
      "5 0.575\n",
      "6 0.525\n",
      "7 0.575\n",
      "8 0.575\n",
      "9 0.6\n",
      "10 0.6\n"
     ]
    }
   ],
   "source": [
    "# leave_one_out(normalize_patients(df), KNeighborsClassifier(n_neighbors=7))\n",
    "# leave_one_out(stats_norm_patients(df), SVC(kernel='sigmoid', gamma=0.1, degree=1, C=1))\n",
    "for c in range(1,11):\n",
    "    print(c, leave_one_out(stats_norm_patients(df), SVC(kernel='poly', gamma=0.1, C=c, degree=1)))"
   ]
  }
 ],
 "metadata": {
  "kernelspec": {
   "display_name": "Python 3",
   "language": "python",
   "name": "python3"
  },
  "language_info": {
   "codemirror_mode": {
    "name": "ipython",
    "version": 3
   },
   "file_extension": ".py",
   "mimetype": "text/x-python",
   "name": "python",
   "nbconvert_exporter": "python",
   "pygments_lexer": "ipython3",
   "version": "3.7.3"
  }
 },
 "nbformat": 4,
 "nbformat_minor": 2
}
